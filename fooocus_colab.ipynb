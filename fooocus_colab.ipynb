{
 "cells": [
  {
   "cell_type": "code",
   "execution_count": null,
   "metadata": {
    "id": "VjYy0F2gZIPR"
   },
   "outputs": [],
   "source": [
    "%pip install pygit2==1.12.2\n",
    "!cd /content\n",
    "!git clone https://github.com/machineminded/Fooocus-inswapper.git\n",
    "!git checkout feature/issue-6-colab\n",
    "!cd /content/Fooocus-inswapper\n",
    "!git clone https://github.com/haofanwang/inswapper.git\n",
    "!cd inswapper\n",
    "!git lfs install\n",
    "!git clone https://huggingface.co/spaces/sczhou/CodeFormer\n",
    "%pip install -r requirements_versions.txt\n",
    "%pip install torch torchvision torchaudio --index-url https://download.pytorch.org/whl/cu118\n",
    "!echo \"Copying basicsr\"\n",
    "!cp -r inswapper/CodeFormer/CodeFormer/basicsr venv/lib/python*/site-packages/\n",
    "!echo \"Copying facelib\"\n",
    "!cp -r inswapper/CodeFormer/CodeFormer/facelib venv/lib/python*/site-packages/\n",
    "!mkdir -p inswapper/checkpoints\n",
    "!wget https://github.com/facefusion/facefusion-assets/releases/download/models/inswapper_128.onnx -O inswapper/checkpoints/inswapper_128.onnx\n",
    "\n",
    "# Setup InstantID\n",
    "!mkdir -p InstantID/models/antelopev2\n",
    "!wget -O InstantID/models/antelopev2/antelopev2.zip 'https://keeper.mpdl.mpg.de/f/2d58b7fed5a74cb5be83/?dl=1'\n",
    "!unzip InstantID/models/antelopev2/antelopev2.zip -d InstantID/models/antelopev2\n",
    "!rm -rf InstantID/models/antelopev2/antelopev2.zip\n",
    "\n",
    "!python launch.py --share"
   ]
  }
 ],
 "metadata": {
  "accelerator": "GPU",
  "colab": {
   "gpuType": "T4",
   "provenance": []
  },
  "kernelspec": {
   "display_name": "Python 3.10.9 ('venv': venv)",
   "language": "python",
   "name": "python3"
  },
  "language_info": {
   "name": "python",
   "version": "3.10.9"
  },
  "vscode": {
   "interpreter": {
    "hash": "886f135d3f951edb8038fee7cc7613ba43eae49c7ff1965a1a83633a45fc6296"
   }
  }
 },
 "nbformat": 4,
 "nbformat_minor": 0
}
